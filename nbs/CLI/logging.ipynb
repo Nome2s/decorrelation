{
 "cells": [
  {
   "cell_type": "markdown",
   "id": "cbc9bef9-2e60-4fb6-9f4d-4da1025a07c7",
   "metadata": {},
   "source": [
    "# logging\n",
    "\n",
    "> basic logging functions for the CLI"
   ]
  },
  {
   "cell_type": "code",
   "execution_count": null,
   "id": "37943c52-5e72-4659-b2bb-b0baae775ed4",
   "metadata": {},
   "outputs": [],
   "source": [
    "#| default_exp cli/logging"
   ]
  },
  {
   "cell_type": "code",
   "execution_count": null,
   "id": "1b14d02f-496f-4b89-bb33-bbca6de66bdc",
   "metadata": {},
   "outputs": [],
   "source": [
    "#| hide\n",
    "from nbdev.showdoc import *"
   ]
  },
  {
   "cell_type": "code",
   "execution_count": null,
   "id": "df421488-fa8a-48e0-a1e2-3b4f2136845c",
   "metadata": {},
   "outputs": [],
   "source": [
    "#| export\n",
    "import logging\n",
    "import sys\n",
    "import random\n",
    "import string\n",
    "import inspect\n",
    "from functools import wraps\n",
    "import types\n",
    "\n",
    "import zarr\n",
    "from dask import array as da\n",
    "import dask"
   ]
  },
  {
   "cell_type": "code",
   "execution_count": null,
   "id": "7250b667-324e-41c0-aa38-e95de097f380",
   "metadata": {},
   "outputs": [],
   "source": [
    "#| export\n",
    "#| hide\n",
    "class McLogger(logging.getLoggerClass()):\n",
    "    def zarr_info(self, # logger\n",
    "                  path, # string to zarr\n",
    "                  zarr, # zarr dataset\n",
    "                 ):\n",
    "        self.info(f'{path} zarray shape, chunks, dtype: {zarr.shape}, {zarr.chunks}, {zarr.dtype}')\n",
    "    \n",
    "    def darr_info(self, # logger\n",
    "                  name, # printing name of the dask array\n",
    "                  darr, # dask array\n",
    "                 ):\n",
    "        self.info(f'{name} dask array shape, chunksize, dtype: {darr.shape}, {darr.chunksize}, {darr.dtype}')\n",
    "\n",
    "    def dask_cluster_info(\n",
    "        self,\n",
    "        cluster,\n",
    "    ):\n",
    "        \n",
    "        text = \"%s(dashboard_link=%r, workers=%d, threads=%d\" % (\n",
    "            cluster._cluster_class_name,\n",
    "            cluster.dashboard_link,\n",
    "            len(cluster.scheduler_info[\"workers\"]),\n",
    "            sum(w[\"nthreads\"] for w in cluster.scheduler_info[\"workers\"].values()),\n",
    "        )\n",
    "    \n",
    "        memory = [w[\"memory_limit\"] for w in cluster.scheduler_info[\"workers\"].values()]\n",
    "        if all(memory):\n",
    "            text += \", memory=\" + dask.utils.format_bytes(sum(memory))\n",
    "    \n",
    "        text += \")\"\n",
    "        self.info('dask cluster: '+text)"
   ]
  },
  {
   "cell_type": "code",
   "execution_count": null,
   "id": "7f0c1c99-6c78-4c51-b871-51b39545a338",
   "metadata": {},
   "outputs": [],
   "source": [
    "#| export\n",
    "#| hide\n",
    "def mc_logger(func):\n",
    "    @wraps(func)\n",
    "    def log_args(*args, **kwargs):\n",
    "        logging.setLoggerClass(McLogger)\n",
    "        logger = logging.getLogger(__name__)\n",
    "        logger.info(f'running function: {func.__name__}')\n",
    "        ba = inspect.signature(func).bind(*args, **kwargs)\n",
    "        ba.apply_defaults()\n",
    "        func_args = ba.arguments\n",
    "        func_args_strs = map(\"{0[0]} = {0[1]!r}\".format, func_args.items())\n",
    "        logger.info('fetching args:')\n",
    "        for item in func_args_strs:\n",
    "            logger.info(item)\n",
    "        logger.info('fetching args done.')\n",
    "        return func(*args, **kwargs)\n",
    "    return log_args"
   ]
  },
  {
   "cell_type": "code",
   "execution_count": null,
   "id": "02906f6d-73e1-414e-8fb9-a3b87baf2f5a",
   "metadata": {},
   "outputs": [],
   "source": [
    "#|export\n",
    "#| hide\n",
    "def mc_logger_(func):\n",
    "    @wraps(func)\n",
    "    def log_args(*args, **kwargs):\n",
    "        logging.setLoggerClass(McLogger)\n",
    "        return func(*args, **kwargs)\n",
    "    return log_args"
   ]
  },
  {
   "cell_type": "code",
   "execution_count": null,
   "id": "adb9aa7a-07e0-4f43-a66c-b6d41d3ab3ec",
   "metadata": {},
   "outputs": [],
   "source": [
    "#| export\n",
    "def get_logger(logfile:str=None, # logfile, optional. default: no logfile\n",
    "              ):\n",
    "    '''get logger for decorrelation cli application'''\n",
    "    \n",
    "    level = logging.INFO\n",
    "    logger = logging.getLogger()\n",
    "    # print(logger.zarr_info)\n",
    "    logger.setLevel(level)\n",
    "    formatter = logging.Formatter(f'%(asctime)s - %(funcName)s - %(levelname)s - %(message)s',datefmt='%Y-%m-%d %H:%M:%S')\n",
    "\n",
    "    console_handler = logging.StreamHandler(sys.stdout)\n",
    "    console_handler.setLevel(level)\n",
    "    console_handler.setFormatter(formatter)\n",
    "    logger.addHandler(console_handler)\n",
    "    \n",
    "    if logfile:\n",
    "        file_handler = logging.FileHandler(logfile)\n",
    "        file_handler.setLevel(level)\n",
    "        file_handler.setFormatter(formatter)\n",
    "        logger.addHandler(file_handler)\n",
    "    return logger"
   ]
  },
  {
   "cell_type": "markdown",
   "id": "7c9894d1-ec8e-4549-80ee-d2a93a3205a0",
   "metadata": {},
   "source": [
    "If no input `logfile`, the log information will be only printed on the screen.\n",
    "If provided `logfile`, the log information will be printed on the screen and saved to the file."
   ]
  },
  {
   "cell_type": "markdown",
   "id": "5f78bc0e-835e-4c82-adca-2e3c42061476",
   "metadata": {},
   "source": [
    "Usage:"
   ]
  },
  {
   "cell_type": "code",
   "execution_count": null,
   "id": "90698cc2-8497-4fd4-8777-0d1863f99676",
   "metadata": {},
   "outputs": [],
   "source": [
    "logger = get_logger() # or\n",
    "logger = get_logger('process.log')"
   ]
  },
  {
   "cell_type": "code",
   "execution_count": null,
   "id": "583373b5-3b24-4ff6-af52-da8d050c8674",
   "metadata": {},
   "outputs": [],
   "source": [
    "#| hide\n",
    "import nbdev; nbdev.nbdev_export()"
   ]
  },
  {
   "cell_type": "code",
   "execution_count": null,
   "id": "7e55e154-7e25-47db-bbb7-6e26181fbed2",
   "metadata": {},
   "outputs": [],
   "source": []
  }
 ],
 "metadata": {
  "kernelspec": {
   "display_name": "python3",
   "language": "python",
   "name": "python3"
  }
 },
 "nbformat": 4,
 "nbformat_minor": 5
}
