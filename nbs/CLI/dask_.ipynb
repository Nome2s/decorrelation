{
 "cells": [
  {
   "cell_type": "markdown",
   "id": "383ced29-021f-491e-9792-e498023ff3b9",
   "metadata": {},
   "source": [
    "# dask\n",
    "\n",
    "> Convenient functions for dask"
   ]
  },
  {
   "cell_type": "code",
   "execution_count": null,
   "id": "9b5cdd21-da19-4289-b383-434fa948b1f2",
   "metadata": {},
   "outputs": [],
   "source": [
    "#| default_exp cli/dask_"
   ]
  },
  {
   "cell_type": "code",
   "execution_count": null,
   "id": "3762b487-6263-4d1a-a61f-497295745465",
   "metadata": {},
   "outputs": [],
   "source": [
    "#| hide\n",
    "from nbdev.showdoc import *"
   ]
  },
  {
   "cell_type": "code",
   "execution_count": null,
   "id": "e20ae940-9198-4e59-a64e-99304c76f117",
   "metadata": {},
   "outputs": [],
   "source": [
    "#| export\n",
    "import math\n",
    "import itertools\n",
    "import concurrent\n",
    "import logging\n",
    "\n",
    "import numpy as np\n",
    "from dask import array as da\n",
    "from dask import delayed\n",
    "import zarr\n",
    "\n",
    "from moraine.cli.logging import mc_logger_"
   ]
  },
  {
   "cell_type": "code",
   "execution_count": null,
   "id": "8be86eed-20e2-4c79-a86c-620e37002564",
   "metadata": {},
   "outputs": [],
   "source": [
    "#| export\n",
    "def _fill_slice(data_zarr,slices):\n",
    "    out_slices = []\n",
    "    for i in range(len(slices)):\n",
    "        slice_i = slices[i]\n",
    "        if slice_i.start is None:\n",
    "            start = 0\n",
    "        else:\n",
    "            start = slice_i.start\n",
    "        assert start%data_zarr.chunks[i] == 0\n",
    "        if (slice_i.stop is None) or (slice_i.stop == data_zarr.shape[i]):\n",
    "            stop = data_zarr.shape[i]\n",
    "        else:\n",
    "            stop = slice_i.stop\n",
    "            assert stop%data_zarr.chunks[i] == 0\n",
    "        assert (slice_i.step is None) or (slice_i.step == 1)\n",
    "        step = 1\n",
    "        out_slices.append(slice(start,stop,step))\n",
    "    return tuple(out_slices)"
   ]
  },
  {
   "cell_type": "code",
   "execution_count": null,
   "id": "7796d46f-9cb3-4fa1-b6fd-6debdcf60cbe",
   "metadata": {},
   "outputs": [],
   "source": [
    "#| export\n",
    "def _one_chunk_slices_and_out_shape(data_zarr,slices):\n",
    "    zarr_1chunk_slice = []\n",
    "    out_1chunk_slice = []\n",
    "    out_shape = []\n",
    "    for i in range(len(slices)):\n",
    "        chunk_size = data_zarr.chunks[i]\n",
    "        shape = data_zarr.shape[i]\n",
    "        zarr_slices = slices[i]\n",
    "        start = zarr_slices.start\n",
    "        stop = zarr_slices.stop\n",
    "        out_shape.append(stop-start)\n",
    "    \n",
    "        zarr_1dim_bound = np.arange(start,stop+chunk_size,chunk_size)\n",
    "        if zarr_1dim_bound[-1] > stop: zarr_1dim_bound[-1] = stop\n",
    "        out_1dim_bound = zarr_1dim_bound-start\n",
    "\n",
    "        zarr_1chunk_1dim_slice = []\n",
    "        out_1chunk_1dim_slice = []\n",
    "        for j in range(zarr_1dim_bound.shape[0]-1):\n",
    "            zarr_1chunk_1dim_slice.append(slice(zarr_1dim_bound[j],zarr_1dim_bound[j+1]))\n",
    "            out_1chunk_1dim_slice.append(slice(out_1dim_bound[j],out_1dim_bound[j+1]))\n",
    "\n",
    "        zarr_1chunk_slice.append(zarr_1chunk_1dim_slice)\n",
    "        out_1chunk_slice.append(out_1chunk_1dim_slice)\n",
    "\n",
    "    zarr_1chunk_slice = list(itertools.product(*zarr_1chunk_slice))\n",
    "    out_1chunk_slice = list(itertools.product(*out_1chunk_slice))\n",
    "\n",
    "    return zarr_1chunk_slice, out_1chunk_slice, tuple(out_shape)"
   ]
  },
  {
   "cell_type": "code",
   "execution_count": null,
   "id": "ef67e093-ebb4-4132-8a28-9986b4cdbcdf",
   "metadata": {},
   "outputs": [],
   "source": [
    "#| export\n",
    "def _read_one_chunk(data_zarr,out,zarr_slices,out_slices):\n",
    "    out[out_slices] = data_zarr[zarr_slices]"
   ]
  },
  {
   "cell_type": "code",
   "execution_count": null,
   "id": "7c23ec0b-2a8a-4052-a30d-31fa2a83d22a",
   "metadata": {},
   "outputs": [],
   "source": [
    "#| export\n",
    "def _p_read_zarr(data_zarr,slices,thread_pool_size=None,fill_slice=True):\n",
    "    if fill_slice:\n",
    "        slices = _fill_slice(data_zarr,slices)\n",
    "    zarr_1chunk_slices, out_1chunk_slices, out_shape = \\\n",
    "    _one_chunk_slices_and_out_shape(data_zarr,slices)\n",
    "    # global out\n",
    "    out = np.empty(out_shape,dtype=data_zarr.dtype)\n",
    "\n",
    "    with concurrent.futures.ThreadPoolExecutor(thread_pool_size) as executor:\n",
    "        for zarr_1chunk_slice,out_1chunk_slice in zip(zarr_1chunk_slices,out_1chunk_slices):\n",
    "            future = executor.submit(_read_one_chunk,data_zarr,out,zarr_1chunk_slice,out_1chunk_slice)\n",
    "    return out"
   ]
  },
  {
   "cell_type": "code",
   "execution_count": null,
   "id": "9c850dfd-0a37-405c-b2e2-a281530a0abf",
   "metadata": {},
   "outputs": [],
   "source": [
    "rslc_path = '/users/kangl/work/insar_denoising/NorthDallas_34_105_2019_ascending/moraine/load_data/rslc.zarr/'"
   ]
  },
  {
   "cell_type": "code",
   "execution_count": null,
   "id": "112ccf0a-4bc0-49ea-be91-4a576c2befee",
   "metadata": {},
   "outputs": [],
   "source": [
    "rslc_zarr = zarr.open(rslc_path,'r',)"
   ]
  },
  {
   "cell_type": "code",
   "execution_count": null,
   "id": "706b616b-a946-4305-bb8f-92dc51edbb3a",
   "metadata": {},
   "outputs": [
    {
     "name": "stdout",
     "output_type": "stream",
     "text": [
      "CPU times: user 3.19 s, sys: 9.21 s, total: 12.4 s\n",
      "Wall time: 935 ms\n"
     ]
    }
   ],
   "source": [
    "%%time\n",
    "out = _p_read_zarr(rslc_zarr,(slice(0,13165),slice(0,68467),slice(0,1)))"
   ]
  },
  {
   "cell_type": "code",
   "execution_count": null,
   "id": "5c867fb9-c827-4c12-b41d-aaf0c4e53e90",
   "metadata": {},
   "outputs": [
    {
     "name": "stdout",
     "output_type": "stream",
     "text": [
      "CPU times: user 2.4 s, sys: 3.7 s, total: 6.1 s\n",
      "Wall time: 3.15 s\n"
     ]
    }
   ],
   "source": [
    "%%time\n",
    "out = rslc_zarr[:,:,0:1]"
   ]
  },
  {
   "cell_type": "code",
   "execution_count": null,
   "id": "f2c99276-4e04-4bee-980e-58fe9999f323",
   "metadata": {},
   "outputs": [],
   "source": [
    "np.testing.assert_array_equal(rslc_zarr[:,:,2:3],_p_read_zarr(rslc_zarr,(slice(0,13165),slice(0,68467),slice(2,3))))"
   ]
  },
  {
   "cell_type": "code",
   "execution_count": null,
   "id": "7a1d22e8-d748-4f53-ae9e-39263b5301c9",
   "metadata": {},
   "outputs": [],
   "source": [
    "#| export\n",
    "def _all_chunk_slices_except_pdims(data_zarr, pdims):\n",
    "    out_slices = []\n",
    "    for i in range(data_zarr.ndim):\n",
    "        if i in pdims:\n",
    "            slice_1dim = [slice(None)]\n",
    "        else:\n",
    "            shape = data_zarr.shape[i]\n",
    "            chunk = data_zarr.chunks[i]\n",
    "            bound_1dim = np.arange(0,shape+chunk,chunk)\n",
    "            if bound_1dim[-1] > shape: bound_1dim[-1] = shape\n",
    "\n",
    "            slice_1dim = []\n",
    "            for j in range(bound_1dim.shape[0]-1):\n",
    "                slice_1dim.append(slice(bound_1dim[j],bound_1dim[j+1]))\n",
    "        out_slices.append(slice_1dim)\n",
    "    out_slices = list(itertools.product(*out_slices))\n",
    "    return out_slices"
   ]
  },
  {
   "cell_type": "code",
   "execution_count": null,
   "id": "3cc8ba59-59f8-45cd-9355-eeadb1be9d0b",
   "metadata": {},
   "outputs": [
    {
     "data": {
      "text/plain": [
       "[(slice(None, None, None), slice(0, 68467, None), slice(None, None, None))]"
      ]
     },
     "execution_count": null,
     "metadata": {},
     "output_type": "execute_result"
    }
   ],
   "source": [
    "_all_chunk_slices_except_pdims(rslc_zarr,(0,2))"
   ]
  },
  {
   "cell_type": "code",
   "execution_count": null,
   "id": "0f17a8db-26a3-4a7d-bb4e-9f267f41f05e",
   "metadata": {},
   "outputs": [],
   "source": [
    "#| export\n",
    "def dask_from_zarr(\n",
    "    data_path:str,\n",
    "    parallel_dims:int|tuple,\n",
    "):\n",
    "    if isinstance(parallel_dims,int):\n",
    "        parallel_dims = (parallel_dims,)\n",
    "    data_zarr = zarr.open(data_path,'r')\n",
    "    slices = _all_chunk_slices_except_pdims(data_zarr,parallel_dims)\n",
    "\n",
    "    _p_read_zarr_delayed = delayed(_p_read_zarr,pure=True,nout=1)\n",
    "    out_delayed = np.empty(len(slices),dtype=object)\n",
    "    for i in range(len(slices)):\n",
    "        slices_i = _fill_slice(data_zarr,slices[i])\n",
    "        out_delayed[i] = _p_read_zarr_delayed(data_zarr,slices_i,fill_slice=False)\n",
    "        shape = []\n",
    "        for slice_ in slices_i:\n",
    "            shape.append(slice_.stop-slice_.start)\n",
    "        shape = tuple(shape)\n",
    "        out_delayed[i] = da.from_delayed(out_delayed[i],shape=shape,dtype=data_zarr.dtype,meta=np.array((),dtype=data_zarr.dtype))\n",
    "\n",
    "    nchunks = list(data_zarr.cdata_shape)\n",
    "    for pdim in parallel_dims:\n",
    "        nchunks[pdim] = 1\n",
    "    out_delayed = out_delayed.reshape(tuple(nchunks))\n",
    "    data_darr = da.block(out_delayed.tolist())\n",
    "    return data_darr"
   ]
  },
  {
   "cell_type": "code",
   "execution_count": null,
   "id": "572a3a7f-ccfc-4cac-813a-0c776c533b99",
   "metadata": {},
   "outputs": [],
   "source": [
    "rslc_darr = dask_from_zarr('raw/rslc.zarr/',parallel_dims=(1,2))"
   ]
  },
  {
   "cell_type": "code",
   "execution_count": null,
   "id": "e85a796b-439b-4a63-afa4-9a2796b742e7",
   "metadata": {},
   "outputs": [
    {
     "data": {
      "text/html": [
       "<table>\n",
       "    <tr>\n",
       "        <td>\n",
       "            <table style=\"border-collapse: collapse;\">\n",
       "                <thead>\n",
       "                    <tr>\n",
       "                        <td> </td>\n",
       "                        <th> Array </th>\n",
       "                        <th> Chunk </th>\n",
       "                    </tr>\n",
       "                </thead>\n",
       "                <tbody>\n",
       "                    \n",
       "                    <tr>\n",
       "                        <th> Bytes </th>\n",
       "                        <td> 594.67 MiB </td>\n",
       "                        <td> 237.87 MiB </td>\n",
       "                    </tr>\n",
       "                    \n",
       "                    <tr>\n",
       "                        <th> Shape </th>\n",
       "                        <td> (2500, 1834, 17) </td>\n",
       "                        <td> (1000, 1834, 17) </td>\n",
       "                    </tr>\n",
       "                    <tr>\n",
       "                        <th> Dask graph </th>\n",
       "                        <td colspan=\"2\"> 3 chunks in 7 graph layers </td>\n",
       "                    </tr>\n",
       "                    <tr>\n",
       "                        <th> Data type </th>\n",
       "                        <td colspan=\"2\"> complex64 numpy.ndarray </td>\n",
       "                    </tr>\n",
       "                </tbody>\n",
       "            </table>\n",
       "        </td>\n",
       "        <td>\n",
       "        <svg width=\"156\" height=\"208\" style=\"stroke:rgb(0,0,0);stroke-width:1\" >\n",
       "\n",
       "  <!-- Horizontal lines -->\n",
       "  <line x1=\"10\" y1=\"0\" x2=\"80\" y2=\"70\" style=\"stroke-width:2\" />\n",
       "  <line x1=\"10\" y1=\"88\" x2=\"80\" y2=\"158\" style=\"stroke-width:2\" />\n",
       "\n",
       "  <!-- Vertical lines -->\n",
       "  <line x1=\"10\" y1=\"0\" x2=\"10\" y2=\"88\" style=\"stroke-width:2\" />\n",
       "  <line x1=\"38\" y1=\"28\" x2=\"38\" y2=\"116\" />\n",
       "  <line x1=\"66\" y1=\"56\" x2=\"66\" y2=\"144\" />\n",
       "  <line x1=\"80\" y1=\"70\" x2=\"80\" y2=\"158\" style=\"stroke-width:2\" />\n",
       "\n",
       "  <!-- Colored Rectangle -->\n",
       "  <polygon points=\"10.0,0.0 80.58823529411765,70.58823529411765 80.58823529411765,158.62023529411766 10.0,88.032\" style=\"fill:#ECB172A0;stroke-width:0\"/>\n",
       "\n",
       "  <!-- Horizontal lines -->\n",
       "  <line x1=\"10\" y1=\"0\" x2=\"35\" y2=\"0\" style=\"stroke-width:2\" />\n",
       "  <line x1=\"38\" y1=\"28\" x2=\"63\" y2=\"28\" />\n",
       "  <line x1=\"66\" y1=\"56\" x2=\"91\" y2=\"56\" />\n",
       "  <line x1=\"80\" y1=\"70\" x2=\"106\" y2=\"70\" style=\"stroke-width:2\" />\n",
       "\n",
       "  <!-- Vertical lines -->\n",
       "  <line x1=\"10\" y1=\"0\" x2=\"80\" y2=\"70\" style=\"stroke-width:2\" />\n",
       "  <line x1=\"35\" y1=\"0\" x2=\"106\" y2=\"70\" style=\"stroke-width:2\" />\n",
       "\n",
       "  <!-- Colored Rectangle -->\n",
       "  <polygon points=\"10.0,0.0 35.41261651458248,0.0 106.00085180870013,70.58823529411765 80.58823529411765,70.58823529411765\" style=\"fill:#ECB172A0;stroke-width:0\"/>\n",
       "\n",
       "  <!-- Horizontal lines -->\n",
       "  <line x1=\"80\" y1=\"70\" x2=\"106\" y2=\"70\" style=\"stroke-width:2\" />\n",
       "  <line x1=\"80\" y1=\"158\" x2=\"106\" y2=\"158\" style=\"stroke-width:2\" />\n",
       "\n",
       "  <!-- Vertical lines -->\n",
       "  <line x1=\"80\" y1=\"70\" x2=\"80\" y2=\"158\" style=\"stroke-width:2\" />\n",
       "  <line x1=\"106\" y1=\"70\" x2=\"106\" y2=\"158\" style=\"stroke-width:2\" />\n",
       "\n",
       "  <!-- Colored Rectangle -->\n",
       "  <polygon points=\"80.58823529411765,70.58823529411765 106.00085180870013,70.58823529411765 106.00085180870013,158.62023529411766 80.58823529411765,158.62023529411766\" style=\"fill:#ECB172A0;stroke-width:0\"/>\n",
       "\n",
       "  <!-- Text -->\n",
       "  <text x=\"93.294544\" y=\"178.620235\" font-size=\"1.0rem\" font-weight=\"100\" text-anchor=\"middle\" >17</text>\n",
       "  <text x=\"126.000852\" y=\"114.604235\" font-size=\"1.0rem\" font-weight=\"100\" text-anchor=\"middle\" transform=\"rotate(-90,126.000852,114.604235)\">1834</text>\n",
       "  <text x=\"35.294118\" y=\"143.326118\" font-size=\"1.0rem\" font-weight=\"100\" text-anchor=\"middle\" transform=\"rotate(45,35.294118,143.326118)\">2500</text>\n",
       "</svg>\n",
       "        </td>\n",
       "    </tr>\n",
       "</table>"
      ],
      "text/plain": [
       "dask.array<concatenate, shape=(2500, 1834, 17), dtype=complex64, chunksize=(1000, 1834, 17), chunktype=numpy.ndarray>"
      ]
     },
     "execution_count": null,
     "metadata": {},
     "output_type": "execute_result"
    }
   ],
   "source": [
    "rslc_darr"
   ]
  },
  {
   "cell_type": "code",
   "execution_count": null,
   "id": "97b0fcc8-9146-41a3-b2b8-c296ba131bea",
   "metadata": {},
   "outputs": [
    {
     "data": {
      "text/plain": [
       "(1000, 1834, 17)"
      ]
     },
     "execution_count": null,
     "metadata": {},
     "output_type": "execute_result"
    }
   ],
   "source": [
    "rslc_darr.chunksize"
   ]
  },
  {
   "cell_type": "code",
   "execution_count": null,
   "id": "874113ac-08a9-436e-ad9c-2e8389c0a128",
   "metadata": {},
   "outputs": [
    {
     "data": {
      "image/png": "[encoded data removed]",
      "text/plain": [
       "<IPython.core.display.Image object>"
      ]
     },
     "execution_count": null,
     "metadata": {},
     "output_type": "execute_result"
    }
   ],
   "source": [
    "rslc_darr.visualize()"
   ]
  },
  {
   "cell_type": "code",
   "execution_count": null,
   "id": "42b8e4a5-5d2e-4a85-974c-dc651f0e6ecc",
   "metadata": {},
   "outputs": [],
   "source": [
    "#| export\n",
    "def _write_one_chunk(data_zarr,data,zarr_slices,data_slices):\n",
    "    data_zarr[zarr_slices] = data[data_slices]"
   ]
  },
  {
   "cell_type": "code",
   "execution_count": null,
   "id": "110166a7-9149-40e4-83d1-8c8a5a97decf",
   "metadata": {},
   "outputs": [],
   "source": [
    "#| export\n",
    "def _p_write_zarr(data,data_zarr,slices,thread_pool_size=None,fill_slice=True):\n",
    "    if fill_slice:\n",
    "        slices = _fill_slice(data_zarr,slices)\n",
    "    zarr_1chunk_slices, data_1chunk_slices = \\\n",
    "    _one_chunk_slices_and_out_shape(data_zarr,slices)[:2]\n",
    "\n",
    "    with concurrent.futures.ThreadPoolExecutor(thread_pool_size) as executor:\n",
    "        for zarr_1chunk_slice,data_1chunk_slice in zip(zarr_1chunk_slices,data_1chunk_slices):\n",
    "            future = executor.submit(_write_one_chunk,data_zarr,data,zarr_1chunk_slice,data_1chunk_slice)"
   ]
  },
  {
   "cell_type": "code",
   "execution_count": null,
   "id": "817d102b-fe59-4dc3-8a08-cb10f3281a7d",
   "metadata": {},
   "outputs": [],
   "source": [
    "out_rslc_path = './dask_/rslc.zarr'\n",
    "rslc_path = '/users/kangl/work/insar_denoising/NorthDallas_34_105_2019_ascending/moraine/load_data/rslc.zarr/'\n",
    "rslc_zarr = zarr.open(rslc_path,'r')\n",
    "one_rslc = rslc_zarr[slice(0,13165),slice(0,68467),slice(0,1)]"
   ]
  },
  {
   "cell_type": "code",
   "execution_count": null,
   "id": "198f1b8a-c8f1-4e6e-a68b-ce5ad296ba53",
   "metadata": {},
   "outputs": [],
   "source": [
    "out_rslc_zarr = zarr.open(out_rslc_path,'w',shape=rslc_zarr.shape,dtype=rslc_zarr.dtype,chunks=rslc_zarr.chunks)"
   ]
  },
  {
   "cell_type": "code",
   "execution_count": null,
   "id": "82777e69-c415-40d4-9b1c-179cdab93035",
   "metadata": {},
   "outputs": [
    {
     "name": "stdout",
     "output_type": "stream",
     "text": [
      "CPU times: user 8.17 s, sys: 4.03 s, total: 12.2 s\n",
      "Wall time: 7.7 s\n"
     ]
    }
   ],
   "source": [
    "%%time\n",
    "out_rslc_zarr[slice(0,13165),slice(0,68467),slice(0,1)] = one_rslc"
   ]
  },
  {
   "cell_type": "code",
   "execution_count": null,
   "id": "e231ba6b-a487-48ba-a973-5619366341fc",
   "metadata": {},
   "outputs": [
    {
     "name": "stdout",
     "output_type": "stream",
     "text": [
      "CPU times: user 7.96 s, sys: 10.7 s, total: 18.6 s\n",
      "Wall time: 1.47 s\n"
     ]
    }
   ],
   "source": [
    "%%time\n",
    "_p_write_zarr(one_rslc,out_rslc_zarr,(slice(0,13165),slice(0,68467),slice(0,1)))"
   ]
  },
  {
   "cell_type": "code",
   "execution_count": null,
   "id": "d06f7c5d-ce74-4a85-a2d2-180a6aca7213",
   "metadata": {},
   "outputs": [],
   "source": [
    "#| export\n",
    "@mc_logger_\n",
    "def dask_to_zarr(data_darr,url,chunks,path=None):\n",
    "    logger = logging.getLogger(__name__)\n",
    "    if isinstance(url, zarr.Array):\n",
    "        data_zarr = url\n",
    "        logger.zarr_info(path,data_zarr)\n",
    "    else:\n",
    "        data_zarr = zarr.open(url,'w',shape=data_darr.shape,dtype=data_darr.dtype,chunks=chunks)\n",
    "        logger.zarr_info(url,data_zarr)\n",
    "    pdims = []\n",
    "    for i in range(data_darr.ndim):\n",
    "        if data_darr.chunksize[i] != data_zarr.chunks[i]:\n",
    "            assert data_darr.chunksize[i] == data_darr.shape[i], \"dask array is not properly rechunked.\"\n",
    "            pdims.append(i)\n",
    "    pdims = tuple(pdims)\n",
    "    slices = _all_chunk_slices_except_pdims(data_zarr,pdims)\n",
    "    n_slices = len(slices)\n",
    "\n",
    "    _p_write_zarr_delayed = delayed(_p_write_zarr,pure=True,nout=0)\n",
    "    out_delayed = np.empty(n_slices,dtype=object)\n",
    "    data_darr_delayed = data_darr.to_delayed()\n",
    "    data_darr_delayed = data_darr_delayed.reshape(n_slices)\n",
    "    for i in range(n_slices):\n",
    "        slices_i = _fill_slice(data_zarr,slices[i])\n",
    "        out_delayed[i] = _p_write_zarr_delayed(data_darr_delayed[i],data_zarr,slices_i,fill_slice=False)\n",
    "        out_delayed[i] = da.from_delayed(out_delayed[i],shape=(1,),dtype=int)\n",
    "\n",
    "    return da.block(out_delayed.tolist())"
   ]
  },
  {
   "cell_type": "code",
   "execution_count": null,
   "id": "a7e26831-d0d4-409d-94a6-c86e588c26ab",
   "metadata": {},
   "outputs": [],
   "source": [
    "rslc_darr = dask_from_zarr('raw/rslc.zarr/',parallel_dims=(1,2))"
   ]
  },
  {
   "cell_type": "code",
   "execution_count": null,
   "id": "9fcb0646-774c-4dbb-8767-34f97a4e9e3a",
   "metadata": {},
   "outputs": [],
   "source": [
    "rslc_darr = rslc_darr.persist()"
   ]
  },
  {
   "cell_type": "code",
   "execution_count": null,
   "id": "6973e406-e719-4f21-aecc-36db60bbc36b",
   "metadata": {},
   "outputs": [
    {
     "data": {
      "image/png": "[encoded data removed]",
      "text/plain": [
       "<IPython.core.display.Image object>"
      ]
     },
     "execution_count": null,
     "metadata": {},
     "output_type": "execute_result"
    }
   ],
   "source": [
    "rslc_darr.visualize()"
   ]
  },
  {
   "cell_type": "code",
   "execution_count": null,
   "id": "f99c4aee-407f-4951-a2b7-05f9672d73fe",
   "metadata": {},
   "outputs": [
    {
     "data": {
      "text/html": [
       "<table>\n",
       "    <tr>\n",
       "        <td>\n",
       "            <table style=\"border-collapse: collapse;\">\n",
       "                <thead>\n",
       "                    <tr>\n",
       "                        <td> </td>\n",
       "                        <th> Array </th>\n",
       "                        <th> Chunk </th>\n",
       "                    </tr>\n",
       "                </thead>\n",
       "                <tbody>\n",
       "                    \n",
       "                    <tr>\n",
       "                        <th> Bytes </th>\n",
       "                        <td> 594.67 MiB </td>\n",
       "                        <td> 237.87 MiB </td>\n",
       "                    </tr>\n",
       "                    \n",
       "                    <tr>\n",
       "                        <th> Shape </th>\n",
       "                        <td> (2500, 1834, 17) </td>\n",
       "                        <td> (1000, 1834, 17) </td>\n",
       "                    </tr>\n",
       "                    <tr>\n",
       "                        <th> Dask graph </th>\n",
       "                        <td colspan=\"2\"> 3 chunks in 1 graph layer </td>\n",
       "                    </tr>\n",
       "                    <tr>\n",
       "                        <th> Data type </th>\n",
       "                        <td colspan=\"2\"> complex64 numpy.ndarray </td>\n",
       "                    </tr>\n",
       "                </tbody>\n",
       "            </table>\n",
       "        </td>\n",
       "        <td>\n",
       "        <svg width=\"156\" height=\"208\" style=\"stroke:rgb(0,0,0);stroke-width:1\" >\n",
       "\n",
       "  <!-- Horizontal lines -->\n",
       "  <line x1=\"10\" y1=\"0\" x2=\"80\" y2=\"70\" style=\"stroke-width:2\" />\n",
       "  <line x1=\"10\" y1=\"88\" x2=\"80\" y2=\"158\" style=\"stroke-width:2\" />\n",
       "\n",
       "  <!-- Vertical lines -->\n",
       "  <line x1=\"10\" y1=\"0\" x2=\"10\" y2=\"88\" style=\"stroke-width:2\" />\n",
       "  <line x1=\"38\" y1=\"28\" x2=\"38\" y2=\"116\" />\n",
       "  <line x1=\"66\" y1=\"56\" x2=\"66\" y2=\"144\" />\n",
       "  <line x1=\"80\" y1=\"70\" x2=\"80\" y2=\"158\" style=\"stroke-width:2\" />\n",
       "\n",
       "  <!-- Colored Rectangle -->\n",
       "  <polygon points=\"10.0,0.0 80.58823529411765,70.58823529411765 80.58823529411765,158.62023529411766 10.0,88.032\" style=\"fill:#ECB172A0;stroke-width:0\"/>\n",
       "\n",
       "  <!-- Horizontal lines -->\n",
       "  <line x1=\"10\" y1=\"0\" x2=\"35\" y2=\"0\" style=\"stroke-width:2\" />\n",
       "  <line x1=\"38\" y1=\"28\" x2=\"63\" y2=\"28\" />\n",
       "  <line x1=\"66\" y1=\"56\" x2=\"91\" y2=\"56\" />\n",
       "  <line x1=\"80\" y1=\"70\" x2=\"106\" y2=\"70\" style=\"stroke-width:2\" />\n",
       "\n",
       "  <!-- Vertical lines -->\n",
       "  <line x1=\"10\" y1=\"0\" x2=\"80\" y2=\"70\" style=\"stroke-width:2\" />\n",
       "  <line x1=\"35\" y1=\"0\" x2=\"106\" y2=\"70\" style=\"stroke-width:2\" />\n",
       "\n",
       "  <!-- Colored Rectangle -->\n",
       "  <polygon points=\"10.0,0.0 35.41261651458248,0.0 106.00085180870013,70.58823529411765 80.58823529411765,70.58823529411765\" style=\"fill:#ECB172A0;stroke-width:0\"/>\n",
       "\n",
       "  <!-- Horizontal lines -->\n",
       "  <line x1=\"80\" y1=\"70\" x2=\"106\" y2=\"70\" style=\"stroke-width:2\" />\n",
       "  <line x1=\"80\" y1=\"158\" x2=\"106\" y2=\"158\" style=\"stroke-width:2\" />\n",
       "\n",
       "  <!-- Vertical lines -->\n",
       "  <line x1=\"80\" y1=\"70\" x2=\"80\" y2=\"158\" style=\"stroke-width:2\" />\n",
       "  <line x1=\"106\" y1=\"70\" x2=\"106\" y2=\"158\" style=\"stroke-width:2\" />\n",
       "\n",
       "  <!-- Colored Rectangle -->\n",
       "  <polygon points=\"80.58823529411765,70.58823529411765 106.00085180870013,70.58823529411765 106.00085180870013,158.62023529411766 80.58823529411765,158.62023529411766\" style=\"fill:#ECB172A0;stroke-width:0\"/>\n",
       "\n",
       "  <!-- Text -->\n",
       "  <text x=\"93.294544\" y=\"178.620235\" font-size=\"1.0rem\" font-weight=\"100\" text-anchor=\"middle\" >17</text>\n",
       "  <text x=\"126.000852\" y=\"114.604235\" font-size=\"1.0rem\" font-weight=\"100\" text-anchor=\"middle\" transform=\"rotate(-90,126.000852,114.604235)\">1834</text>\n",
       "  <text x=\"35.294118\" y=\"143.326118\" font-size=\"1.0rem\" font-weight=\"100\" text-anchor=\"middle\" transform=\"rotate(45,35.294118,143.326118)\">2500</text>\n",
       "</svg>\n",
       "        </td>\n",
       "    </tr>\n",
       "</table>"
      ],
      "text/plain": [
       "dask.array<concatenate, shape=(2500, 1834, 17), dtype=complex64, chunksize=(1000, 1834, 17), chunktype=numpy.ndarray>"
      ]
     },
     "execution_count": null,
     "metadata": {},
     "output_type": "execute_result"
    }
   ],
   "source": [
    "rslc_darr"
   ]
  },
  {
   "cell_type": "code",
   "execution_count": null,
   "id": "bf21773b-d449-47e3-87b0-0eda22f11e7c",
   "metadata": {},
   "outputs": [],
   "source": [
    "out_delayed = dask_to_zarr(rslc_darr,'./dask_/rslc.zarr/',chunks=(rslc_darr.chunksize[0],rslc_darr.shape[1],1))"
   ]
  },
  {
   "cell_type": "code",
   "execution_count": null,
   "id": "4568a693-c880-4aa0-b0c3-3fbfca84f2a9",
   "metadata": {},
   "outputs": [
    {
     "data": {
      "text/plain": [
       "(array([None, None, None], dtype=object),)"
      ]
     },
     "execution_count": null,
     "metadata": {},
     "output_type": "execute_result"
    }
   ],
   "source": [
    "da.compute(out_delayed)"
   ]
  },
  {
   "cell_type": "code",
   "execution_count": null,
   "id": "d635788d-c449-422f-9fe1-ba5de3615ca7",
   "metadata": {},
   "outputs": [],
   "source": [
    "np.testing.assert_array_equal(zarr.open('./dask_/rslc.zarr','r')[:], zarr.open('./raw/rslc.zarr','r')[:])"
   ]
  },
  {
   "cell_type": "code",
   "execution_count": null,
   "id": "ce82e557-133d-43bd-a9c5-2f48a68b0021",
   "metadata": {},
   "outputs": [],
   "source": [
    "#| hide\n",
    "import nbdev; nbdev.nbdev_export()"
   ]
  },
  {
   "cell_type": "code",
   "execution_count": null,
   "id": "d15d9d1c-fc7a-4721-82dd-5db8417b9d72",
   "metadata": {},
   "outputs": [],
   "source": []
  }
 ],
 "metadata": {
  "kernelspec": {
   "display_name": "python3",
   "language": "python",
   "name": "python3"
  }
 },
 "nbformat": 4,
 "nbformat_minor": 5
}
