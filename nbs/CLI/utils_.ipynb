{
 "cells": [
  {
   "cell_type": "markdown",
   "id": "91495a59-9f3a-4378-9357-9d3c55c28ef5",
   "metadata": {},
   "source": [
    "# utils\n",
    "\n",
    "> internal utilities for CLI developing"
   ]
  },
  {
   "cell_type": "code",
   "execution_count": null,
   "id": "26336d18-4f60-45ed-a7e6-7e5b02970da9",
   "metadata": {},
   "outputs": [],
   "source": [
    "#| default_exp cli/utils_"
   ]
  },
  {
   "cell_type": "code",
   "execution_count": null,
   "id": "1215172d-8c89-43dd-97c0-cd65e8a66a92",
   "metadata": {},
   "outputs": [],
   "source": [
    "#| hide\n",
    "from nbdev.showdoc import *"
   ]
  },
  {
   "cell_type": "code",
   "execution_count": null,
   "id": "3a7171ae-1802-42a4-ba6b-2494c597205c",
   "metadata": {},
   "outputs": [],
   "source": [
    "#| export\n",
    "from pathlib import Path\n",
    "import shutil"
   ]
  },
  {
   "cell_type": "code",
   "execution_count": null,
   "id": "e2419783-d67d-4b71-b3d1-83ee99652cc9",
   "metadata": {},
   "outputs": [],
   "source": [
    "#| export\n",
    "def mk_clean_dir(path):\n",
    "    path = Path(path)\n",
    "    if path.exists():\n",
    "        shutil.rmtree(path)\n",
    "    path.mkdir(parents=True,exist_ok=True)"
   ]
  },
  {
   "cell_type": "code",
   "execution_count": null,
   "id": "c3178035-28c0-4cb2-b1c2-e9fbba5d68b6",
   "metadata": {},
   "outputs": [],
   "source": [
    "#| hide\n",
    "import nbdev; nbdev.nbdev_export()"
   ]
  },
  {
   "cell_type": "code",
   "execution_count": null,
   "id": "29ff59df-ef3c-4e39-a3a6-b4e6645c621c",
   "metadata": {},
   "outputs": [],
   "source": []
  }
 ],
 "metadata": {
  "kernelspec": {
   "display_name": "python3",
   "language": "python",
   "name": "python3"
  }
 },
 "nbformat": 4,
 "nbformat_minor": 5
}
