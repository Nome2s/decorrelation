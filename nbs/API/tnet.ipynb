{
 "cells": [
  {
   "cell_type": "markdown",
   "id": "1cf89e68-578d-4dc0-be07-b5a62e3ac40d",
   "metadata": {},
   "source": [
    "# temporal network\n",
    "\n",
    "> utilities holding temporal network info"
   ]
  },
  {
   "cell_type": "code",
   "execution_count": null,
   "id": "812250d4-bf39-41ab-95ed-80911c2ab53a",
   "metadata": {},
   "outputs": [],
   "source": [
    "#| default_exp tnet"
   ]
  },
  {
   "cell_type": "code",
   "execution_count": null,
   "id": "02c2c334-26c2-466a-89bc-6b2f35eadcf3",
   "metadata": {},
   "outputs": [],
   "source": [
    "#| hide\n",
    "from nbdev.showdoc import *"
   ]
  },
  {
   "cell_type": "code",
   "execution_count": null,
   "id": "21218c00-7881-41e9-b422-5956c5ef4119",
   "metadata": {},
   "outputs": [],
   "source": [
    "#| export\n",
    "import numpy as np\n",
    "from numba import prange\n",
    "from moraine.utils_ import ngpjit, ngjit"
   ]
  },
  {
   "cell_type": "code",
   "execution_count": null,
   "id": "e49511aa-8a34-4a23-8a5e-2ac7115ab780",
   "metadata": {},
   "outputs": [],
   "source": [
    "#| export\n",
    "def _imagepair_from_bandwidth(nimages,bandwidth=None):\n",
    "    if bandwidth is None: bandwidth = nimages\n",
    "    assert nimages >= bandwidth\n",
    "    ref, sec = np.triu_indices(nimages, 1)\n",
    "    idx = np.where((sec-ref)<=bandwidth)\n",
    "    return np.stack((ref[idx], sec[idx]),axis=-1).astype(np.int32)"
   ]
  },
  {
   "cell_type": "code",
   "execution_count": null,
   "id": "c6a3f6fc-31c4-48aa-8ee6-7f899cab33bb",
   "metadata": {},
   "outputs": [],
   "source": [
    "#| export\n",
    "@ngpjit\n",
    "def are_edges_sorted(edges):\n",
    "    num_edges = edges.shape[0]\n",
    "    for i in prange(num_edges - 1):\n",
    "        if edges[i, 0] > edges[i + 1, 0] or (edges[i, 0] == edges[i + 1, 0] and edges[i, 1] > edges[i + 1, 1]):\n",
    "            return False\n",
    "    return True"
   ]
  },
  {
   "cell_type": "code",
   "execution_count": null,
   "id": "f288def5-1cf5-464b-845f-beca3890c635",
   "metadata": {},
   "outputs": [],
   "source": [
    "#| export\n",
    "@ngpjit\n",
    "def are_edges_directed(edges):\n",
    "    '''directed = reference index smaller than secondary index'''\n",
    "    num_edges = edges.shape[0]\n",
    "    for i in prange(num_edges):\n",
    "        if edges[i, 0] >= edges[i, 1]:\n",
    "            return False\n",
    "    return True"
   ]
  },
  {
   "cell_type": "code",
   "execution_count": null,
   "id": "1be4fbba-f6e7-4f5b-a4e3-723a33b5c9fd",
   "metadata": {},
   "outputs": [],
   "source": [
    "#| export\n",
    "@ngjit\n",
    "def are_edges_connected(edges):\n",
    "    num_edges = edges.shape[0]\n",
    "\n",
    "    current_ref = -1\n",
    "    for i in range(num_edges):\n",
    "        if edges[i,0] == current_ref:\n",
    "            continue\n",
    "        else:\n",
    "            if edges[i,0] != edges[i,1]-1:\n",
    "                return False\n",
    "            current_ref = edges[i,0]\n",
    "    return True"
   ]
  },
  {
   "cell_type": "code",
   "execution_count": null,
   "id": "4de0d362-eb62-4899-bbf8-527a6089bf95",
   "metadata": {},
   "outputs": [],
   "source": [
    "#| export\n",
    "class TempNet(object):\n",
    "    def __init__(self,image_pairs,check_if_valid=True):\n",
    "        if check_if_valid:\n",
    "            if not are_edges_sorted:\n",
    "                raise ValueError('input image pairs are not sorted.')\n",
    "            if not are_edges_directed:\n",
    "                raise ValueError('input image pairs are not directed (reference index larger than or equal to secondary index).')\n",
    "            if not are_edges_connected:\n",
    "                raise ValueError('input image pairs are not connected.')\n",
    "        self.image_pairs = image_pairs.astype(np.int32)\n",
    "\n",
    "    @classmethod\n",
    "    def from_bandwidth(cls, nimages, bandwidth=None):\n",
    "        image_pairs = _imagepair_from_bandwidth(nimages,bandwidth)\n",
    "        return cls(image_pairs,check_if_valid=False)\n",
    "\n",
    "    def save(self,path:str, # zarr path\n",
    "            ):\n",
    "        '''Save the TempNet.'''\n",
    "        tempnet_zarr = zarr.open(path,'w',shape=self.image_pairs.shape,dtype=self.image_pairs.dtype)\n",
    "        tempnet_zarr[:] = self.image_pairs[:]\n",
    "\n",
    "    @classmethod\n",
    "    def load(cls, zarr_path:str, # zarr path\n",
    "            ):\n",
    "        '''classmethod to load the saved HilbertRtree.'''\n",
    "        tempnet_zarr = zarr.open(path,'r')\n",
    "        return cls(tempnet_zarr[:], check_if_valid=False)"
   ]
  },
  {
   "cell_type": "markdown",
   "id": "44bcda47-a338-4b9e-99d9-44c17e06e064",
   "metadata": {},
   "source": [
    "Usage:"
   ]
  },
  {
   "cell_type": "markdown",
   "id": "85a29454-9b10-42eb-96ff-a57fc35bdfb8",
   "metadata": {},
   "source": [
    "Create a temporal network by specifing the number of images and the temporal bandwidth (the maximum number of images to be paired with one image):"
   ]
  },
  {
   "cell_type": "code",
   "execution_count": null,
   "id": "ac354f1d-4d1e-4bfe-b58c-254944cab234",
   "metadata": {},
   "outputs": [],
   "source": [
    "tnet = TempNet.from_bandwidth(5,2)"
   ]
  },
  {
   "cell_type": "code",
   "execution_count": null,
   "id": "1b92b6de-a006-4780-9e89-a5126e1e322f",
   "metadata": {},
   "outputs": [
    {
     "data": {
      "text/plain": [
       "array([[0, 1],\n",
       "       [0, 2],\n",
       "       [1, 2],\n",
       "       [1, 3],\n",
       "       [2, 3],\n",
       "       [2, 4],\n",
       "       [3, 4]], dtype=int32)"
      ]
     },
     "execution_count": null,
     "metadata": {},
     "output_type": "execute_result"
    }
   ],
   "source": [
    "tnet.image_pairs"
   ]
  },
  {
   "cell_type": "markdown",
   "id": "fb9d233e-0e6e-4f33-99f2-4068ba056d40",
   "metadata": {},
   "source": [
    "Or, you can specify your own image pairs:"
   ]
  },
  {
   "cell_type": "code",
   "execution_count": null,
   "id": "ad8d2b6f-bc14-4fa1-acd1-cdbb98dd64b8",
   "metadata": {},
   "outputs": [
    {
     "data": {
      "text/plain": [
       "array([[0, 1],\n",
       "       [1, 2],\n",
       "       [2, 3],\n",
       "       [3, 4]], dtype=int32)"
      ]
     },
     "execution_count": null,
     "metadata": {},
     "output_type": "execute_result"
    }
   ],
   "source": [
    "tnet = TempNet(np.stack(([0,1,2,3],[1,2,3,4]),axis=-1))\n",
    "tnet.image_pairs"
   ]
  },
  {
   "cell_type": "code",
   "execution_count": null,
   "id": "3b075189-fa1f-4177-817e-023cdc2455f9",
   "metadata": {},
   "outputs": [],
   "source": [
    "#| hide\n",
    "import nbdev; nbdev.nbdev_export()"
   ]
  },
  {
   "cell_type": "code",
   "execution_count": null,
   "id": "646de92f-11e8-4416-9b5a-9b5b6ebdf140",
   "metadata": {},
   "outputs": [],
   "source": []
  }
 ],
 "metadata": {
  "kernelspec": {
   "display_name": "python3",
   "language": "python",
   "name": "python3"
  }
 },
 "nbformat": 4,
 "nbformat_minor": 5
}
